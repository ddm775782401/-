{
 "cells": [
  {
   "cell_type": "markdown",
   "metadata": {},
   "source": [
    "# 训练集80%"
   ]
  },
  {
   "cell_type": "code",
   "execution_count": 1,
   "metadata": {},
   "outputs": [
    {
     "name": "stdout",
     "output_type": "stream",
     "text": [
      "训练时间:0.304187\n",
      "0.925\n",
      "SVM准确率: 92.50%\n"
     ]
    }
   ],
   "source": [
    "import numpy as np\n",
    "import random,os,cv2,glob\n",
    "from sklearn.decomposition import PCA\n",
    "from sklearn.metrics import confusion_matrix\n",
    "import time\n",
    "import pywt\n",
    "from sklearn.svm import  SVC\n",
    "import matplotlib.pyplot as plt\n",
    "from cv2 import cv2\n",
    "\n",
    "\n",
    "def loadImageSet(folder=u'face', sampleCount=5): \n",
    "    trainData = []; testData = [];yTrain2=[];yTest2=[]\n",
    "    for k in range(40):\n",
    "        yTrain1 = [k]\n",
    "        yTest1 =[k]\n",
    "        folder2 = os.path.join(folder, 's%d' % (k+1))\n",
    "        data = [ cv2.imread(d,0) for d in glob.glob(os.path.join(folder2, '*.bmp'))]\n",
    "\n",
    "        # sample=[3,4,5,6]\n",
    "        sample=[2,3,4,5,6,7,8,9]\n",
    "        trainData.extend([data[i].ravel() for i in range(10) if i in sample])\n",
    "        testData.extend([data[i].ravel() for i in range(10) if i not in sample])\n",
    "\n",
    "  \n",
    "        yTrain = np.matrix(yTrain1)\n",
    "        yTrain= np.tile(yTrain1,8)\n",
    "        yTest=np.tile(yTest1,2)\n",
    "        yTrain2.extend(yTrain)\n",
    "        yTest2.extend(yTest)\n",
    "    return np.array(trainData),  np.array(yTrain2), np.array(testData), np.array(yTest2)\n",
    "\n",
    "\n",
    "beginTime=time.time()\n",
    "xTrain_, yTrain, xTest_, yTest = loadImageSet()\n",
    "pca1=PCA(n_components=0.8)\n",
    "xTrain_pca=pca1.fit_transform(xTrain_)# 把原始训练集映射到主成分组成的子空间中\n",
    "xTest_pca=pca1.transform(xTest_)# 把原始测试集映射到主成分组成的子空间中\n",
    "clf=SVC(C=1000.0, cache_size=200, class_weight='balanced', coef0=0.0,\n",
    "decision_function_shape='ovr', degree=3, gamma=0.001, kernel='poly',\n",
    "max_iter=-1, probability=False, random_state=None, shrinking=True,\n",
    "tol=0.001, verbose=False)\n",
    "clf.fit(xTrain_pca/255,yTrain)\n",
    "predict=clf.predict(xTest_pca / 255)\n",
    "endTime = time.time()\n",
    "costTime=endTime-beginTime\n",
    "print(\"训练时间:%f\" %(costTime))\n",
    "print(clf.score(xTest_pca/255,yTest))\n",
    "print(u'SVM准确率: %.2f%%' % ((predict == np.array(yTest)).mean()*100)  )\n"
   ]
  },
  {
   "cell_type": "code",
   "execution_count": 2,
   "metadata": {},
   "outputs": [
    {
     "data": {
      "text/plain": [
       "array([15, 16,  1,  1,  2,  2,  3,  3,  4, 39,  5,  5,  6,  6,  7,  7,  8,\n",
       "        8,  9,  2, 10, 10, 11, 11, 12, 12, 13, 13, 14, 14, 15, 15, 16, 16,\n",
       "       17, 17, 18, 18, 19, 19, 20, 20, 21, 21, 22, 22, 23, 23, 24, 24, 25,\n",
       "       25, 26, 26, 27, 27, 28, 28, 29, 29, 30, 30, 31, 31, 32, 32, 33, 33,\n",
       "       14, 34, 35, 14, 36, 36, 37, 37, 38, 38, 39, 39])"
      ]
     },
     "execution_count": 2,
     "metadata": {},
     "output_type": "execute_result"
    }
   ],
   "source": [
    "predict"
   ]
  },
  {
   "cell_type": "markdown",
   "metadata": {},
   "source": [
    "# 训练集50%"
   ]
  },
  {
   "cell_type": "code",
   "execution_count": 3,
   "metadata": {},
   "outputs": [],
   "source": [
    "import numpy as np\n",
    "import random,os,cv2,glob\n",
    "from sklearn.decomposition import PCA\n",
    "from sklearn.metrics import confusion_matrix\n",
    "import time\n",
    "import pywt\n",
    "from sklearn.svm import  SVC\n",
    "import matplotlib.pyplot as plt\n",
    "from cv2 import cv2"
   ]
  },
  {
   "cell_type": "code",
   "execution_count": 4,
   "metadata": {},
   "outputs": [],
   "source": [
    "def loadImageSet(folder=u'face', sampleCount=5): \n",
    "    trainData = []; testData = [];yTrain2=[];yTest2=[]\n",
    "    for k in range(40):\n",
    "        yTrain1 = [k]\n",
    "        yTest1 =[k]\n",
    "        folder2 = os.path.join(folder, 's%d' % (k+1))\n",
    "        data = [ cv2.imread(d,0) for d in glob.glob(os.path.join(folder2, '*.bmp'))]\n",
    "\n",
    "        # sample=[3,4,5,6]\n",
    "        sample=[5,6,7,8,9]\n",
    "        trainData.extend([data[i].ravel() for i in range(10) if i in sample])\n",
    "        testData.extend([data[i].ravel() for i in range(10) if i not in sample])\n",
    "\n",
    "  \n",
    "       # yTrain = np.matrix(yTrain1)\n",
    "        yTrain= np.tile(yTrain1,5)\n",
    "        yTest=np.tile(yTest1,5)\n",
    "        yTrain2.extend(yTrain)\n",
    "        yTest2.extend(yTest)\n",
    "    return np.array(trainData),  np.array(yTrain2), np.array(testData), np.array(yTest2)\n"
   ]
  },
  {
   "cell_type": "code",
   "execution_count": 5,
   "metadata": {},
   "outputs": [
    {
     "name": "stdout",
     "output_type": "stream",
     "text": [
      "训练时间:0.204488\n",
      "0.85\n",
      "SVM准确率: 85.00%\n"
     ]
    }
   ],
   "source": [
    "beginTime=time.time()\n",
    "xTrain_, yTrain, xTest_, yTest = loadImageSet()\n",
    "pca1=PCA(n_components=0.8)\n",
    "xTrain_pca=pca1.fit_transform(xTrain_)# 把原始训练集映射到主成分组成的子空间中\n",
    "xTest_pca=pca1.transform(xTest_)# 把原始测试集映射到主成分组成的子空间中\n",
    "\n",
    "clf=SVC(C=1000.0, cache_size=200, class_weight='balanced', coef0=0.0,\n",
    "        decision_function_shape='ovr', degree=3, gamma=0.001, kernel='poly',\n",
    "        max_iter=-1, probability=False, random_state=None, shrinking=True,\n",
    "        tol=0.001, verbose=False)\n",
    "\n",
    "clf.fit(xTrain_pca,yTrain)\n",
    "predict=clf.predict(xTest_pca )\n",
    "\n",
    "endTime = time.time()\n",
    "costTime=endTime-beginTime\n",
    "print(\"训练时间:%f\" %(costTime))\n",
    "print(clf.score(xTest_pca,yTest))\n",
    "print(u'SVM准确率: %.2f%%' % ((predict == np.array(yTest)).mean()*100)  )"
   ]
  },
  {
   "cell_type": "code",
   "execution_count": 6,
   "metadata": {},
   "outputs": [
    {
     "data": {
      "text/plain": [
       "array([14, 16,  0,  1,  0,  1,  1,  1,  1,  1,  2,  2,  2,  2,  2,  3,  3,\n",
       "        3,  3,  3,  4, 39,  4,  4,  4, 14,  5, 14, 14,  5,  6, 14, 14,  6,\n",
       "        6,  7,  7,  7,  7,  7,  8,  8,  8,  8,  8,  9,  2,  9,  9, 14, 10,\n",
       "       10, 10, 10, 10, 11, 11, 11, 11, 11, 12, 12, 12, 12, 12, 13, 13, 13,\n",
       "       13, 13, 14, 14, 14, 14, 14, 15, 14, 14, 14, 15, 16, 16, 16, 14, 14,\n",
       "       17, 17, 17, 17, 17, 14, 18, 18, 18, 18, 29, 14, 29, 14, 19, 20, 20,\n",
       "       20, 20, 20, 21, 21, 21, 21, 21, 22, 22, 22, 22, 22, 23, 23, 23, 23,\n",
       "       23, 24, 24, 24, 24, 24, 25, 25, 25, 25, 25, 26, 26, 26, 26, 26, 27,\n",
       "       27, 27, 27, 14, 28, 28, 28, 28, 28, 29, 29, 29, 29, 29, 30, 30, 30,\n",
       "       30, 30, 31, 31, 31, 31, 31, 32, 32, 32, 32, 32, 33, 33, 33, 33, 33,\n",
       "       14, 14, 34, 14, 34, 35, 14, 14, 35, 35, 36, 36, 36, 36, 36, 37, 37,\n",
       "       37, 37,  2, 38, 38, 38, 38, 38, 39,  4, 39, 39,  4])"
      ]
     },
     "execution_count": 6,
     "metadata": {},
     "output_type": "execute_result"
    }
   ],
   "source": [
    "predict"
   ]
  }
 ],
 "metadata": {
  "kernelspec": {
   "display_name": "Python 3",
   "language": "python",
   "name": "python3"
  },
  "language_info": {
   "codemirror_mode": {
    "name": "ipython",
    "version": 3
   },
   "file_extension": ".py",
   "mimetype": "text/x-python",
   "name": "python",
   "nbconvert_exporter": "python",
   "pygments_lexer": "ipython3",
   "version": "3.7.3"
  }
 },
 "nbformat": 4,
 "nbformat_minor": 2
}
