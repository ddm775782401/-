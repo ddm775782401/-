{
 "cells": [
  {
   "cell_type": "code",
   "execution_count": 15,
   "metadata": {},
   "outputs": [],
   "source": [
    "import numpy as np\n",
    "import cv2 as cv\n",
    "from scipy import linalg as la\n",
    "from sklearn.utils import check_array, as_float_array\n",
    "from skimage.measure import compare_psnr\n",
    "\n",
    "class CCIPCA(object):\n",
    "        \n",
    "    def __init__(self, n_components=2, amnesic=2.0, copy=True):\n",
    "        self.n_components = n_components\n",
    "        if self.n_components < 2:\n",
    "            raise ValueError (\"must specifiy n_components for CCIPCA\")\n",
    "            \n",
    "        self.copy = copy\n",
    "        self.amnesic = amnesic\n",
    "        self.iteration = 0\n",
    "\n",
    "    def fit(self, X):        \n",
    "        X = check_array(X)\n",
    "        n_samples, n_features = X.shape \n",
    "        X = as_float_array(X, copy=self.copy)\n",
    "        \n",
    "        # init\n",
    "        if self.iteration == 0:  \n",
    "            self.mean_ = np.zeros([n_features], np.float)                           #行向量与行向量相加\n",
    "            self.components_ = np.zeros([self.n_components,n_features], np.float)\n",
    "        else:\n",
    "            if n_features != self.components_.shape[1]:\n",
    "                raise ValueError('The dimensionality of the new data and the existing components_ does not match')   \n",
    "        \n",
    "        # incrementally fit the model\n",
    "        for i in range(0,n_samples):\n",
    "            self.partial_fit(X[i,:])\n",
    "        \n",
    "        # update explained_variance_ratio_\n",
    "        self.explained_variance_ratio_ = np.sqrt(np.sum(self.components_**2,axis=1))\n",
    "        \n",
    "        # sort by explained_variance_ratio_\n",
    "        idx = np.argsort(-self.explained_variance_ratio_)\n",
    "        self.explained_variance_ratio_ = self.explained_variance_ratio_[idx]\n",
    "        self.components_ = self.components_[idx,:]\n",
    "        \n",
    "        # re-normalize\n",
    "        self.explained_variance_ratio_ = (self.explained_variance_ratio_ / self.explained_variance_ratio_.sum())\n",
    "           \n",
    "        for r in range(0,self.components_.shape[0]):  #归一化\n",
    "            self.components_[r,:] /= np.sqrt(np.dot(self.components_[r,:],self.components_[r,:]))\n",
    "        #self.components_t = np.zeros((40,self.components_.shape[1]))\n",
    "        return self\n",
    "        \n",
    "    def _amnestic(self, t):               # amnestic function\n",
    "        if t <= int(self.amnesic):\n",
    "            _rr = float(t+2-1)/float(t+2)    \n",
    "            _lr = float(1)/float(t+2)    \n",
    "        else:\n",
    "            _rr = float(t+2-self.amnesic)/float(t+2)    \n",
    "            _lr = float(1+self.amnesic)/float(t+2)\n",
    "        \n",
    "        return [_rr, _lr]\n",
    "    \n",
    "\n",
    "    def partial_fit(self, u):\n",
    "        n = float(self.iteration)\n",
    "        V = self.components_\n",
    "        w1,w2=self._amnestic(n)\n",
    "        self.mean_ = float(n+1-1)/float(n+1)*self.mean_ + float(1)/float(n+1)*u\n",
    "        if n != 0:\n",
    "        # mean center u        \n",
    "            u = u - self.mean_\n",
    "    \n",
    "        # update components\n",
    "\n",
    "        for j in range(0,self.n_components):\n",
    "            \n",
    "            if j > n:\n",
    "                # the component has already been init to a zerovec\n",
    "                pass\n",
    "            \n",
    "            elif j == n:\n",
    "                # set the component to u \n",
    "                V[j,:] = u\n",
    "                normedV = V[j,:] / la.norm(V[j,:])\n",
    "            else:       \n",
    "                # update the components\n",
    "                V[j,:] = w1*V[j,:] + w2*np.dot(u,V[j,:])*u / la.norm(V[j,:])\n",
    "                \n",
    "                normedV = V[j,:] / la.norm(V[j,:])\n",
    "            \n",
    "            u = u - np.dot(np.dot(u.T,normedV),normedV)\n",
    "\n",
    "        self.iteration += 1\n",
    "        self.components_ = V\n",
    "        return\n",
    "    \n",
    "    def transform(self, X):\n",
    "        X = check_array(X)\n",
    "        X_transformed = X - self.mean_\n",
    "        X_transformed = np.dot(X_transformed, self.components_.T)\n",
    "        return X_transformed\n",
    "\n",
    "    def predict(self, X):\n",
    "        decompass_data = np.dot(X, self.components_) + self.mean_\n",
    "        return decompass_data\n"
   ]
  },
  {
   "cell_type": "code",
   "execution_count": 16,
   "metadata": {},
   "outputs": [],
   "source": [
    "from PIL import Image\n",
    "import numpy as np"
   ]
  },
  {
   "cell_type": "code",
   "execution_count": 17,
   "metadata": {},
   "outputs": [
    {
     "data": {
      "text/plain": [
       "(112, 92)"
      ]
     },
     "execution_count": 17,
     "metadata": {},
     "output_type": "execute_result"
    }
   ],
   "source": [
    "image=Image.open('1.bmp')\n",
    "image=np.array(image)\n",
    "image.shape"
   ]
  },
  {
   "cell_type": "code",
   "execution_count": 18,
   "metadata": {},
   "outputs": [
    {
     "data": {
      "text/plain": [
       "(112, 92)"
      ]
     },
     "execution_count": 18,
     "metadata": {},
     "output_type": "execute_result"
    }
   ],
   "source": [
    "a=CCIPCA(3)\n",
    "a.fit(image)\n",
    "compass_data=a.transform(image)\n",
    "decompass_data=a.predict(compass_data)\n",
    "decompass_data.shape"
   ]
  },
  {
   "cell_type": "code",
   "execution_count": 19,
   "metadata": {},
   "outputs": [],
   "source": [
    "from skimage.measure import compare_psnr"
   ]
  },
  {
   "cell_type": "code",
   "execution_count": 20,
   "metadata": {},
   "outputs": [
    {
     "data": {
      "text/plain": [
       "array([[103.75915778, 102.68844866, 100.84189246, ...,  80.64248916,\n",
       "         82.16808103,  82.18658795],\n",
       "       [105.96837617, 105.0024789 , 103.13975457, ...,  82.54237202,\n",
       "         84.17898215,  84.23389011],\n",
       "       [107.00808313, 106.14371518, 104.27492342, ...,  83.47364324,\n",
       "         85.26773058,  85.34115072],\n",
       "       ...,\n",
       "       [ 78.28566865,  76.46873736,  71.89449808, ...,  58.69746733,\n",
       "         63.38279917,  64.48195152],\n",
       "       [ 77.93751562,  76.31575438,  71.90204123, ...,  58.56772231,\n",
       "         63.4804853 ,  64.50238115],\n",
       "       [ 77.52760734,  75.82247989,  71.35919259, ...,  58.16336962,\n",
       "         62.98741639,  64.02663034]])"
      ]
     },
     "execution_count": 20,
     "metadata": {},
     "output_type": "execute_result"
    }
   ],
   "source": [
    "decompass_data"
   ]
  },
  {
   "cell_type": "code",
   "execution_count": 21,
   "metadata": {},
   "outputs": [
    {
     "data": {
      "text/plain": [
       "matrix([[103, 102, 100, ...,  80,  82,  82],\n",
       "        [105, 105, 103, ...,  82,  84,  84],\n",
       "        [107, 106, 104, ...,  83,  85,  85],\n",
       "        ...,\n",
       "        [ 78,  76,  71, ...,  58,  63,  64],\n",
       "        [ 77,  76,  71, ...,  58,  63,  64],\n",
       "        [ 77,  75,  71, ...,  58,  62,  64]], dtype=uint8)"
      ]
     },
     "execution_count": 21,
     "metadata": {},
     "output_type": "execute_result"
    }
   ],
   "source": [
    "#变成矩阵\n",
    "ccimage=np.uint8(np.mat(decompass_data))\n",
    "ccimage"
   ]
  },
  {
   "cell_type": "code",
   "execution_count": 8,
   "metadata": {},
   "outputs": [
    {
     "ename": "AttributeError",
     "evalue": "module 'cv2.cv2' has no attribute 'destoryAllWindows'",
     "output_type": "error",
     "traceback": [
      "\u001b[1;31m---------------------------------------------------------------------------\u001b[0m",
      "\u001b[1;31mAttributeError\u001b[0m                            Traceback (most recent call last)",
      "\u001b[1;32m<ipython-input-8-5d8a585e3ad9>\u001b[0m in \u001b[0;36m<module>\u001b[1;34m\u001b[0m\n\u001b[0;32m      4\u001b[0m \u001b[0mcv\u001b[0m\u001b[1;33m.\u001b[0m\u001b[0mresizeWindow\u001b[0m\u001b[1;33m(\u001b[0m\u001b[1;34m'ccipca'\u001b[0m\u001b[1;33m,\u001b[0m\u001b[1;36m300\u001b[0m\u001b[1;33m,\u001b[0m \u001b[1;36m300\u001b[0m\u001b[1;33m)\u001b[0m\u001b[1;33m\u001b[0m\u001b[1;33m\u001b[0m\u001b[0m\n\u001b[0;32m      5\u001b[0m \u001b[0mcv\u001b[0m\u001b[1;33m.\u001b[0m\u001b[0mwaitKey\u001b[0m\u001b[1;33m(\u001b[0m\u001b[1;36m0\u001b[0m\u001b[1;33m)\u001b[0m\u001b[1;33m\u001b[0m\u001b[1;33m\u001b[0m\u001b[0m\n\u001b[1;32m----> 6\u001b[1;33m \u001b[0mcv\u001b[0m\u001b[1;33m.\u001b[0m\u001b[0mdestoryAllWindows\u001b[0m\u001b[1;33m(\u001b[0m\u001b[1;33m)\u001b[0m\u001b[1;33m\u001b[0m\u001b[1;33m\u001b[0m\u001b[0m\n\u001b[0m",
      "\u001b[1;31mAttributeError\u001b[0m: module 'cv2.cv2' has no attribute 'destoryAllWindows'"
     ]
    }
   ],
   "source": [
    "import cv2 as cv\n",
    "cv.imshow('ccipca',ccimage)\n",
    "cv.namedWindow('ccipca', cv.WINDOW_NORMAL)\n",
    "cv.resizeWindow('ccipca',300, 300)\n",
    "cv.waitKey(0)\n",
    "cv.destoryAllWindows()"
   ]
  },
  {
   "cell_type": "code",
   "execution_count": 22,
   "metadata": {},
   "outputs": [
    {
     "ename": "AttributeError",
     "evalue": "module 'cv2.cv2' has no attribute 'destoryAllWindows'",
     "output_type": "error",
     "traceback": [
      "\u001b[1;31m---------------------------------------------------------------------------\u001b[0m",
      "\u001b[1;31mAttributeError\u001b[0m                            Traceback (most recent call last)",
      "\u001b[1;32m<ipython-input-22-4971114f27fa>\u001b[0m in \u001b[0;36m<module>\u001b[1;34m\u001b[0m\n\u001b[0;32m      4\u001b[0m \u001b[0mcv\u001b[0m\u001b[1;33m.\u001b[0m\u001b[0mresizeWindow\u001b[0m\u001b[1;33m(\u001b[0m\u001b[1;34m'ccipca'\u001b[0m\u001b[1;33m,\u001b[0m\u001b[1;36m300\u001b[0m\u001b[1;33m,\u001b[0m \u001b[1;36m300\u001b[0m\u001b[1;33m)\u001b[0m\u001b[1;33m\u001b[0m\u001b[1;33m\u001b[0m\u001b[0m\n\u001b[0;32m      5\u001b[0m \u001b[0mcv\u001b[0m\u001b[1;33m.\u001b[0m\u001b[0mwaitKey\u001b[0m\u001b[1;33m(\u001b[0m\u001b[1;36m0\u001b[0m\u001b[1;33m)\u001b[0m\u001b[1;33m\u001b[0m\u001b[1;33m\u001b[0m\u001b[0m\n\u001b[1;32m----> 6\u001b[1;33m \u001b[0mcv\u001b[0m\u001b[1;33m.\u001b[0m\u001b[0mdestoryAllWindows\u001b[0m\u001b[1;33m(\u001b[0m\u001b[1;33m)\u001b[0m\u001b[1;33m\u001b[0m\u001b[1;33m\u001b[0m\u001b[0m\n\u001b[0m",
      "\u001b[1;31mAttributeError\u001b[0m: module 'cv2.cv2' has no attribute 'destoryAllWindows'"
     ]
    }
   ],
   "source": [
    "import cv2 as cv\n",
    "cv.imshow('ccipca',ccimage)\n",
    "cv.namedWindow('ccipca', cv.WINDOW_NORMAL)\n",
    "cv.resizeWindow('ccipca',300, 300)\n",
    "cv.waitKey(0)\n",
    "cv.destoryAllWindows()"
   ]
  },
  {
   "cell_type": "code",
   "execution_count": 23,
   "metadata": {},
   "outputs": [
    {
     "name": "stdout",
     "output_type": "stream",
     "text": [
      "信噪比： 19.97769245945037\n"
     ]
    }
   ],
   "source": [
    "print(\"信噪比：\",compare_psnr(image,ccimage))"
   ]
  },
  {
   "cell_type": "code",
   "execution_count": null,
   "metadata": {},
   "outputs": [],
   "source": []
  }
 ],
 "metadata": {
  "kernelspec": {
   "display_name": "Python 3",
   "language": "python",
   "name": "python3"
  },
  "language_info": {
   "codemirror_mode": {
    "name": "ipython",
    "version": 3
   },
   "file_extension": ".py",
   "mimetype": "text/x-python",
   "name": "python",
   "nbconvert_exporter": "python",
   "pygments_lexer": "ipython3",
   "version": "3.7.3"
  }
 },
 "nbformat": 4,
 "nbformat_minor": 2
}
